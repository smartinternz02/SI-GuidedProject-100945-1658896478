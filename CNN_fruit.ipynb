{
 "cells": [
  {
   "cell_type": "code",
   "execution_count": 1,
   "metadata": {
    "id": "UKmhy5-OZBcl"
   },
   "outputs": [],
   "source": [
    "import cv2 \n",
    "import os\n",
    "from tqdm import tqdm\n",
    "import numpy as np\n"
   ]
  },
  {
   "cell_type": "markdown",
   "metadata": {
    "id": "5zTWUPJpkif9"
   },
   "source": [
    "## Image Processing"
   ]
  },
  {
   "cell_type": "code",
   "execution_count": 2,
   "metadata": {
    "id": "us2zAAc0ZSiJ"
   },
   "outputs": [],
   "source": [
    "filepath = \"C:/Users/priya/anaconda3/Task/smartinternz/fruit-dataset/train/\""
   ]
  },
  {
   "cell_type": "code",
   "execution_count": 3,
   "metadata": {
    "colab": {
     "base_uri": "https://localhost:8080/",
     "height": 253
    },
    "id": "jCRiGUblZXFc",
    "outputId": "a2f2c20d-289a-44c7-8047-ba8df702d408"
   },
   "outputs": [
    {
     "name": "stderr",
     "output_type": "stream",
     "text": [
      "100%|██████████| 6/6 [00:06<00:00,  1.10s/it]\n"
     ]
    }
   ],
   "source": [
    "images, labels = [] , []\n",
    "for i in tqdm(os.listdir(filepath)):\n",
    "  for j in os.listdir(filepath + i + \"/\"):\n",
    "    img = cv2.imread(filepath + i + \"/\" + j)\n",
    "    img = cv2.resize(img, (128,128))\n",
    "    images.append(img)\n",
    "    labels.append(i)\n",
    "\n",
    "images = np.array(images)"
   ]
  },
  {
   "cell_type": "markdown",
   "metadata": {
    "id": "6yHy5SdJlV-7"
   },
   "source": [
    "## Model building for fruit disease prediction"
   ]
  },
  {
   "cell_type": "code",
   "execution_count": 4,
   "metadata": {
    "id": "RN20xGcuVQ8k"
   },
   "outputs": [
    {
     "data": {
      "text/plain": [
       "(5384, 128, 128, 3)"
      ]
     },
     "execution_count": 4,
     "metadata": {},
     "output_type": "execute_result"
    }
   ],
   "source": [
    "images.shape"
   ]
  },
  {
   "cell_type": "code",
   "execution_count": 5,
   "metadata": {
    "id": "V2oUMqCqleEX"
   },
   "outputs": [],
   "source": [
    "from keras.models import Sequential\n",
    "from keras.layers import Dense\n",
    "from keras.layers import Convolution2D as Conv2D\n",
    "from keras.layers import MaxPooling2D\n",
    "from keras.layers import Flatten\n",
    "from sklearn.preprocessing import LabelEncoder"
   ]
  },
  {
   "cell_type": "code",
   "execution_count": 6,
   "metadata": {
    "id": "76yaMplXl6Dj"
   },
   "outputs": [],
   "source": [
    "model=Sequential()"
   ]
  },
  {
   "cell_type": "code",
   "execution_count": 7,
   "metadata": {
    "id": "f46jB-Z4l9m5"
   },
   "outputs": [],
   "source": [
    "model.add(Conv2D(32,(3,3),input_shape=(128,128,3),activation='relu'))"
   ]
  },
  {
   "cell_type": "code",
   "execution_count": 8,
   "metadata": {
    "id": "9-ueN-r1mbFE"
   },
   "outputs": [],
   "source": [
    "model.add(MaxPooling2D(2,2))\n",
    "model.add(Conv2D(64,(3,3),activation = \"relu\"))\n",
    "model.add(MaxPooling2D(2,2))"
   ]
  },
  {
   "cell_type": "code",
   "execution_count": 9,
   "metadata": {
    "id": "zEpHy6W6mluN"
   },
   "outputs": [],
   "source": [
    "model.add(Flatten())"
   ]
  },
  {
   "cell_type": "code",
   "execution_count": 10,
   "metadata": {
    "id": "A2qrH55xW29Z"
   },
   "outputs": [
    {
     "name": "stdout",
     "output_type": "stream",
     "text": [
      "Model: \"sequential\"\n",
      "_________________________________________________________________\n",
      " Layer (type)                Output Shape              Param #   \n",
      "=================================================================\n",
      " conv2d (Conv2D)             (None, 126, 126, 32)      896       \n",
      "                                                                 \n",
      " max_pooling2d (MaxPooling2D  (None, 63, 63, 32)       0         \n",
      " )                                                               \n",
      "                                                                 \n",
      " conv2d_1 (Conv2D)           (None, 61, 61, 64)        18496     \n",
      "                                                                 \n",
      " max_pooling2d_1 (MaxPooling  (None, 30, 30, 64)       0         \n",
      " 2D)                                                             \n",
      "                                                                 \n",
      " flatten (Flatten)           (None, 57600)             0         \n",
      "                                                                 \n",
      "=================================================================\n",
      "Total params: 19,392\n",
      "Trainable params: 19,392\n",
      "Non-trainable params: 0\n",
      "_________________________________________________________________\n"
     ]
    }
   ],
   "source": [
    "model.summary()"
   ]
  },
  {
   "cell_type": "code",
   "execution_count": 11,
   "metadata": {
    "id": "ZmlEiCM9mtM1"
   },
   "outputs": [],
   "source": [
    "model.add(Dense(512,activation='relu'))\n",
    "model.add(Dense(128,activation='relu'))\n",
    "model.add(Dense(6,activation='softmax'))"
   ]
  },
  {
   "cell_type": "code",
   "execution_count": 12,
   "metadata": {
    "id": "QWKG2dtVby2H"
   },
   "outputs": [],
   "source": [
    "import tensorflow as tf"
   ]
  },
  {
   "cell_type": "code",
   "execution_count": 13,
   "metadata": {
    "id": "ndg1wMNGnor9"
   },
   "outputs": [],
   "source": [
    "model.compile(loss='sparse_categorical_crossentropy',optimizer=\"adam\",metrics=[\"accuracy\"])"
   ]
  },
  {
   "cell_type": "code",
   "execution_count": 14,
   "metadata": {
    "id": "FazYbe8_bXLu"
   },
   "outputs": [],
   "source": [
    "lbe = LabelEncoder()\n",
    "y = lbe.fit_transform(labels)"
   ]
  },
  {
   "cell_type": "code",
   "execution_count": 15,
   "metadata": {
    "colab": {
     "background_save": true
    },
    "id": "R0oknJvpn9Ip",
    "outputId": "ef130d17-c7a2-4e03-a894-79349b048151"
   },
   "outputs": [
    {
     "name": "stdout",
     "output_type": "stream",
     "text": [
      "Epoch 1/10\n",
      "34/34 [==============================] - 54s 2s/step - loss: 134.1659 - accuracy: 0.5756 - val_loss: 9.7643 - val_accuracy: 0.6249\n",
      "Epoch 2/10\n",
      "34/34 [==============================] - 55s 2s/step - loss: 0.3534 - accuracy: 0.8988 - val_loss: 13.9738 - val_accuracy: 0.6453\n",
      "Epoch 3/10\n",
      "34/34 [==============================] - 54s 2s/step - loss: 0.2598 - accuracy: 0.9271 - val_loss: 14.9894 - val_accuracy: 0.6332\n",
      "Epoch 4/10\n",
      "34/34 [==============================] - 55s 2s/step - loss: 0.1037 - accuracy: 0.9710 - val_loss: 20.3962 - val_accuracy: 0.6890\n",
      "Epoch 5/10\n",
      "34/34 [==============================] - 56s 2s/step - loss: 0.0480 - accuracy: 0.9854 - val_loss: 19.1597 - val_accuracy: 0.6695\n",
      "Epoch 6/10\n",
      "34/34 [==============================] - 55s 2s/step - loss: 0.0252 - accuracy: 0.9926 - val_loss: 18.2963 - val_accuracy: 0.6500\n",
      "Epoch 7/10\n",
      "34/34 [==============================] - 56s 2s/step - loss: 0.0373 - accuracy: 0.9868 - val_loss: 19.1104 - val_accuracy: 0.6574\n",
      "Epoch 8/10\n",
      "34/34 [==============================] - 54s 2s/step - loss: 0.0171 - accuracy: 0.9954 - val_loss: 22.2530 - val_accuracy: 0.6741\n",
      "Epoch 9/10\n",
      "34/34 [==============================] - 55s 2s/step - loss: 0.0304 - accuracy: 0.9907 - val_loss: 20.6164 - val_accuracy: 0.6500\n",
      "Epoch 10/10\n",
      "34/34 [==============================] - 55s 2s/step - loss: 0.0125 - accuracy: 0.9958 - val_loss: 23.4647 - val_accuracy: 0.6565\n"
     ]
    },
    {
     "data": {
      "text/plain": [
       "<keras.callbacks.History at 0x14b1f3f0910>"
      ]
     },
     "execution_count": 15,
     "metadata": {},
     "output_type": "execute_result"
    }
   ],
   "source": [
    "model.fit(images,y, batch_size = 128 , validation_split =0.2 , epochs= 10)"
   ]
  },
  {
   "cell_type": "code",
   "execution_count": 16,
   "metadata": {
    "id": "3_UkgE2CoUZX"
   },
   "outputs": [],
   "source": [
    "model.save(\"fruit.h5\")"
   ]
  }
 ],
 "metadata": {
  "colab": {
   "collapsed_sections": [],
   "name": "CNN_deployment_fruit_training.ipynb",
   "provenance": []
  },
  "kernelspec": {
   "display_name": "Python 3 (ipykernel)",
   "language": "python",
   "name": "python3"
  },
  "language_info": {
   "codemirror_mode": {
    "name": "ipython",
    "version": 3
   },
   "file_extension": ".py",
   "mimetype": "text/x-python",
   "name": "python",
   "nbconvert_exporter": "python",
   "pygments_lexer": "ipython3",
   "version": "3.10.4"
  }
 },
 "nbformat": 4,
 "nbformat_minor": 1
}
